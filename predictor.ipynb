{
 "cells": [
  {
   "cell_type": "code",
   "execution_count": 50,
   "id": "078e981d",
   "metadata": {},
   "outputs": [],
   "source": [
    "import pandas as pd\n",
    "import numpy as np\n",
    "import matplotlib.pyplot as plt\n",
    "import seaborn as sns\n",
    "from sklearn.preprocessing import OrdinalEncoder\n",
    "from sklearn.preprocessing import MinMaxScaler\n",
    "from sklearn.model_selection import train_test_split\n",
    "from sklearn.neighbors import KNeighborsClassifier\n",
    "from sklearn.linear_model import LogisticRegression\n",
    "from sklearn.metrics import confusion_matrix, classification_report\n",
    "from sklearn.metrics import precision_recall_curve, accuracy_score, precision_score, recall_score, f1_score, roc_curve"
   ]
  },
  {
   "cell_type": "code",
   "execution_count": 51,
   "id": "a6f4c4d5",
   "metadata": {},
   "outputs": [
    {
     "name": "stderr",
     "output_type": "stream",
     "text": [
      "/Users/ufukkose/Desktop/projects/soccer-predictor/venv/lib/python3.6/site-packages/IPython/core/interactiveshell.py:3072: DtypeWarning: Columns (4,5,11,12,13,14,15,16,17,18,19,20,21,22,23,24,25,26,27,28,29,30,31,32,33,34,35,36,37,38,71,72) have mixed types.Specify dtype option on import or set low_memory=False.\n",
      "  interactivity=interactivity, compiler=compiler, result=result)\n"
     ]
    }
   ],
   "source": [
    "matches = pd.read_csv(\"Football.csv\")"
   ]
  },
  {
   "cell_type": "code",
   "execution_count": 52,
   "id": "5eaafe1c",
   "metadata": {},
   "outputs": [
    {
     "data": {
      "text/html": [
       "<div>\n",
       "<style scoped>\n",
       "    .dataframe tbody tr th:only-of-type {\n",
       "        vertical-align: middle;\n",
       "    }\n",
       "\n",
       "    .dataframe tbody tr th {\n",
       "        vertical-align: top;\n",
       "    }\n",
       "\n",
       "    .dataframe thead th {\n",
       "        text-align: right;\n",
       "    }\n",
       "</style>\n",
       "<table border=\"1\" class=\"dataframe\">\n",
       "  <thead>\n",
       "    <tr style=\"text-align: right;\">\n",
       "      <th></th>\n",
       "      <th>Country</th>\n",
       "      <th>League</th>\n",
       "      <th>home_team</th>\n",
       "      <th>away_team</th>\n",
       "      <th>home_score</th>\n",
       "      <th>away_score</th>\n",
       "      <th>season_year</th>\n",
       "      <th>Date_day</th>\n",
       "      <th>Date_hour</th>\n",
       "      <th>first_half</th>\n",
       "      <th>...</th>\n",
       "      <th>Distance_Covered_(km)_Home</th>\n",
       "      <th>Distance_Covered_(km)_Host</th>\n",
       "      <th>Clearances_Completed_Home</th>\n",
       "      <th>Clearances_Completed_Host</th>\n",
       "      <th>Pass_Success_per_Home</th>\n",
       "      <th>Pass_Success_per_Host</th>\n",
       "      <th>referee</th>\n",
       "      <th>venue</th>\n",
       "      <th>capacity</th>\n",
       "      <th>attendance</th>\n",
       "    </tr>\n",
       "  </thead>\n",
       "  <tbody>\n",
       "    <tr>\n",
       "      <th>0</th>\n",
       "      <td>Germany</td>\n",
       "      <td>Bundesliga</td>\n",
       "      <td>B. Monchengladbach</td>\n",
       "      <td>Werder Bremen</td>\n",
       "      <td>4</td>\n",
       "      <td>1</td>\n",
       "      <td>2024/2025</td>\n",
       "      <td>3.11</td>\n",
       "      <td>19:30</td>\n",
       "      <td>3 - 0</td>\n",
       "      <td>...</td>\n",
       "      <td>NaN</td>\n",
       "      <td>NaN</td>\n",
       "      <td>NaN</td>\n",
       "      <td>NaN</td>\n",
       "      <td>NaN</td>\n",
       "      <td>NaN</td>\n",
       "      <td>Dankert B.  (Ger)</td>\n",
       "      <td>Borussia-Park  (Mönchengladbach)</td>\n",
       "      <td>54 042</td>\n",
       "      <td>54 042</td>\n",
       "    </tr>\n",
       "    <tr>\n",
       "      <th>1</th>\n",
       "      <td>Germany</td>\n",
       "      <td>Bundesliga</td>\n",
       "      <td>Freiburg</td>\n",
       "      <td>Mainz</td>\n",
       "      <td>0</td>\n",
       "      <td>0</td>\n",
       "      <td>2024/2025</td>\n",
       "      <td>3.11</td>\n",
       "      <td>17:30</td>\n",
       "      <td>0 - 0</td>\n",
       "      <td>...</td>\n",
       "      <td>NaN</td>\n",
       "      <td>NaN</td>\n",
       "      <td>NaN</td>\n",
       "      <td>NaN</td>\n",
       "      <td>NaN</td>\n",
       "      <td>NaN</td>\n",
       "      <td>Brand B.  (Ger)</td>\n",
       "      <td>Europa-Park Stadion  (Freiburg)</td>\n",
       "      <td>34 700</td>\n",
       "      <td>34 400</td>\n",
       "    </tr>\n",
       "    <tr>\n",
       "      <th>2</th>\n",
       "      <td>Germany</td>\n",
       "      <td>Bundesliga</td>\n",
       "      <td>Dortmund</td>\n",
       "      <td>RB Leipzig</td>\n",
       "      <td>2</td>\n",
       "      <td>1</td>\n",
       "      <td>2024/2025</td>\n",
       "      <td>2.11</td>\n",
       "      <td>20:30</td>\n",
       "      <td>1 - 1</td>\n",
       "      <td>...</td>\n",
       "      <td>NaN</td>\n",
       "      <td>NaN</td>\n",
       "      <td>NaN</td>\n",
       "      <td>NaN</td>\n",
       "      <td>NaN</td>\n",
       "      <td>NaN</td>\n",
       "      <td>Stieler T.  (Ger)</td>\n",
       "      <td>Signal Iduna Park  (Dortmund)</td>\n",
       "      <td>81 365</td>\n",
       "      <td>81 365</td>\n",
       "    </tr>\n",
       "    <tr>\n",
       "      <th>3</th>\n",
       "      <td>Germany</td>\n",
       "      <td>Bundesliga</td>\n",
       "      <td>Bayern Munich</td>\n",
       "      <td>Union Berlin</td>\n",
       "      <td>3</td>\n",
       "      <td>0</td>\n",
       "      <td>2024/2025</td>\n",
       "      <td>2.11</td>\n",
       "      <td>17:30</td>\n",
       "      <td>2 - 0</td>\n",
       "      <td>...</td>\n",
       "      <td>NaN</td>\n",
       "      <td>NaN</td>\n",
       "      <td>NaN</td>\n",
       "      <td>NaN</td>\n",
       "      <td>NaN</td>\n",
       "      <td>NaN</td>\n",
       "      <td>Jollenbeck M.  (Ger)</td>\n",
       "      <td>Allianz Arena  (Munich)</td>\n",
       "      <td>75 024</td>\n",
       "      <td>75 000</td>\n",
       "    </tr>\n",
       "    <tr>\n",
       "      <th>4</th>\n",
       "      <td>Germany</td>\n",
       "      <td>Bundesliga</td>\n",
       "      <td>Eintracht Frankfurt</td>\n",
       "      <td>Bochum</td>\n",
       "      <td>7</td>\n",
       "      <td>2</td>\n",
       "      <td>2024/2025</td>\n",
       "      <td>2.11</td>\n",
       "      <td>17:30</td>\n",
       "      <td>4 - 1</td>\n",
       "      <td>...</td>\n",
       "      <td>NaN</td>\n",
       "      <td>NaN</td>\n",
       "      <td>NaN</td>\n",
       "      <td>NaN</td>\n",
       "      <td>NaN</td>\n",
       "      <td>NaN</td>\n",
       "      <td>Schlager D.  (Ger)</td>\n",
       "      <td>Deutsche Bank Park  (Frankfurt)</td>\n",
       "      <td>58 000</td>\n",
       "      <td>58 000</td>\n",
       "    </tr>\n",
       "  </tbody>\n",
       "</table>\n",
       "<p>5 rows × 91 columns</p>\n",
       "</div>"
      ],
      "text/plain": [
       "   Country      League            home_team      away_team home_score  \\\n",
       "0  Germany  Bundesliga   B. Monchengladbach  Werder Bremen          4   \n",
       "1  Germany  Bundesliga             Freiburg          Mainz          0   \n",
       "2  Germany  Bundesliga             Dortmund     RB Leipzig          2   \n",
       "3  Germany  Bundesliga        Bayern Munich   Union Berlin          3   \n",
       "4  Germany  Bundesliga  Eintracht Frankfurt         Bochum          7   \n",
       "\n",
       "  away_score season_year  Date_day Date_hour first_half  ...  \\\n",
       "0          1   2024/2025      3.11     19:30      3 - 0  ...   \n",
       "1          0   2024/2025      3.11     17:30      0 - 0  ...   \n",
       "2          1   2024/2025      2.11     20:30      1 - 1  ...   \n",
       "3          0   2024/2025      2.11     17:30      2 - 0  ...   \n",
       "4          2   2024/2025      2.11     17:30      4 - 1  ...   \n",
       "\n",
       "  Distance_Covered_(km)_Home Distance_Covered_(km)_Host  \\\n",
       "0                        NaN                        NaN   \n",
       "1                        NaN                        NaN   \n",
       "2                        NaN                        NaN   \n",
       "3                        NaN                        NaN   \n",
       "4                        NaN                        NaN   \n",
       "\n",
       "  Clearances_Completed_Home Clearances_Completed_Host Pass_Success_per_Home  \\\n",
       "0                       NaN                       NaN                   NaN   \n",
       "1                       NaN                       NaN                   NaN   \n",
       "2                       NaN                       NaN                   NaN   \n",
       "3                       NaN                       NaN                   NaN   \n",
       "4                       NaN                       NaN                   NaN   \n",
       "\n",
       "  Pass_Success_per_Host               referee  \\\n",
       "0                   NaN     Dankert B.  (Ger)   \n",
       "1                   NaN       Brand B.  (Ger)   \n",
       "2                   NaN     Stieler T.  (Ger)   \n",
       "3                   NaN  Jollenbeck M.  (Ger)   \n",
       "4                   NaN    Schlager D.  (Ger)   \n",
       "\n",
       "                              venue capacity attendance  \n",
       "0  Borussia-Park  (Mönchengladbach)   54 042     54 042  \n",
       "1   Europa-Park Stadion  (Freiburg)   34 700     34 400  \n",
       "2     Signal Iduna Park  (Dortmund)   81 365     81 365  \n",
       "3           Allianz Arena  (Munich)   75 024     75 000  \n",
       "4   Deutsche Bank Park  (Frankfurt)   58 000     58 000  \n",
       "\n",
       "[5 rows x 91 columns]"
      ]
     },
     "execution_count": 52,
     "metadata": {},
     "output_type": "execute_result"
    }
   ],
   "source": [
    "matches.head()"
   ]
  },
  {
   "cell_type": "code",
   "execution_count": 60,
   "id": "e4742182",
   "metadata": {},
   "outputs": [
    {
     "data": {
      "text/plain": [
       "(95384, 91)"
      ]
     },
     "execution_count": 60,
     "metadata": {},
     "output_type": "execute_result"
    }
   ],
   "source": [
    "matches.shape"
   ]
  },
  {
   "cell_type": "code",
   "execution_count": 61,
   "id": "d79c53c6",
   "metadata": {},
   "outputs": [
    {
     "data": {
      "text/plain": [
       "(616, 91)"
      ]
     },
     "execution_count": 61,
     "metadata": {},
     "output_type": "execute_result"
    }
   ],
   "source": [
    "db = matches[(matches[\"League\"] == \"Bundesliga\") & \n",
    "             (matches[\"season_year\"].isin([\"2023/2024\", \"2022/2023\"]))].copy()\n",
    "db.shape"
   ]
  },
  {
   "cell_type": "code",
   "execution_count": 62,
   "id": "22c0c917",
   "metadata": {},
   "outputs": [
    {
     "name": "stdout",
     "output_type": "stream",
     "text": [
      "     Country      League            home_team      away_team home_score  \\\n",
      "81   Germany  Bundesliga           Dusseldorf         Bochum          0   \n",
      "82   Germany  Bundesliga               Bochum     Dusseldorf          0   \n",
      "83   Germany  Bundesliga     Bayer Leverkusen       Augsburg          2   \n",
      "84   Germany  Bundesliga             Dortmund      Darmstadt          4   \n",
      "85   Germany  Bundesliga  Eintracht Frankfurt     RB Leipzig          2   \n",
      "..       ...         ...                  ...            ...        ...   \n",
      "692  Germany  Bundesliga   B. Monchengladbach     Hoffenheim          3   \n",
      "693  Germany  Bundesliga               Bochum          Mainz          1   \n",
      "694  Germany  Bundesliga         Union Berlin  Hertha Berlin          3   \n",
      "695  Germany  Bundesliga            Wolfsburg  Werder Bremen          2   \n",
      "696  Germany  Bundesliga  Eintracht Frankfurt  Bayern Munich          1   \n",
      "\n",
      "    away_score season_year  Date_day Date_hour first_half  ...  \\\n",
      "81           4   2023/2024     27.05     21:30      0 - 1  ...   \n",
      "82           3   2023/2024     23.05     21:30      0 - 1  ...   \n",
      "83           1   2023/2024     18.05     16:30      2 - 0  ...   \n",
      "84           0   2023/2024     18.05     16:30      2 - 0  ...   \n",
      "85           2   2023/2024     18.05     16:30      0 - 1  ...   \n",
      "..         ...         ...       ...       ...        ...  ...   \n",
      "692          1   2022/2023      6.08     16:30      1 - 1  ...   \n",
      "693          2   2022/2023      6.08     16:30      1 - 1  ...   \n",
      "694          1   2022/2023      6.08     16:30      1 - 0  ...   \n",
      "695          2   2022/2023      6.08     16:30      1 - 2  ...   \n",
      "696          6   2022/2023      5.08     21:30      0 - 5  ...   \n",
      "\n",
      "    Distance_Covered_(km)_Home Distance_Covered_(km)_Host  \\\n",
      "81                       151.0                      151.0   \n",
      "82                       118.0                      119.0   \n",
      "83                       118.0                      118.0   \n",
      "84                       104.0                      107.0   \n",
      "85                       113.0                      113.0   \n",
      "..                         ...                        ...   \n",
      "692                        NaN                        NaN   \n",
      "693                        NaN                        NaN   \n",
      "694                        NaN                        NaN   \n",
      "695                        NaN                        NaN   \n",
      "696                        NaN                        NaN   \n",
      "\n",
      "    Clearances_Completed_Home Clearances_Completed_Host Pass_Success_per_Home  \\\n",
      "81                        NaN                       NaN                   NaN   \n",
      "82                        NaN                       NaN                   NaN   \n",
      "83                        NaN                       NaN                   NaN   \n",
      "84                        NaN                       NaN                   NaN   \n",
      "85                        NaN                       NaN                   NaN   \n",
      "..                        ...                       ...                   ...   \n",
      "692                       NaN                       NaN                   NaN   \n",
      "693                       NaN                       NaN                   NaN   \n",
      "694                       NaN                       NaN                   NaN   \n",
      "695                       NaN                       NaN                   NaN   \n",
      "696                       NaN                       NaN                   NaN   \n",
      "\n",
      "    Pass_Success_per_Host               referee  \\\n",
      "81                    NaN     Aytekin D.  (Ger)   \n",
      "82                    NaN    Schroder R.  (Ger)   \n",
      "83                    NaN  Jollenbeck M.  (Ger)   \n",
      "84                    NaN     Siebert D.  (Ger)   \n",
      "85                    NaN      Zwayer F.  (Ger)   \n",
      "..                    ...                   ...   \n",
      "692                   NaN     Siebert D.  (Ger)   \n",
      "693                   NaN      Zwayer F.  (Ger)   \n",
      "694                   NaN       Fritz M.  (Ger)   \n",
      "695                   NaN   Stegemann S.  (Ger)   \n",
      "696                   NaN     Aytekin D.  (Ger)   \n",
      "\n",
      "                                        venue capacity attendance  \n",
      "81           Merkur Spiel-Arena  (Düsseldorf)   54 600     51 500  \n",
      "82              Vonovia Ruhrstadion  (Bochum)   26 000     26 000  \n",
      "83                     BayArena  (Leverkusen)   30 210     30 210  \n",
      "84              Signal Iduna Park  (Dortmund)   81 365     81 365  \n",
      "85            Deutsche Bank Park  (Frankfurt)   58 000     57 500  \n",
      "..                                        ...      ...        ...  \n",
      "692          Borussia-Park  (Mönchengladbach)   54 042     49 659  \n",
      "693             Vonovia Ruhrstadion  (Bochum)   26 000     24 110  \n",
      "694  Stadion An der Alten Försterei  (Berlin)   22 012     22 012  \n",
      "695             Volkswagen Arena  (Wolfsburg)   28 917     28 015  \n",
      "696           Deutsche Bank Park  (Frankfurt)   58 000     51 500  \n",
      "\n",
      "[616 rows x 91 columns]\n"
     ]
    }
   ],
   "source": [
    "db[\"home_team\"] = db[\"home_team\"].str.replace(r\"\\n2\", \"\", regex=True).str.strip()\n",
    "db[\"away_team\"] = db[\"away_team\"].str.replace(r\"\\n2\", \"\", regex=True).str.strip()\n",
    "print(db)"
   ]
  },
  {
   "cell_type": "code",
   "execution_count": 63,
   "id": "3a242f9a",
   "metadata": {},
   "outputs": [
    {
     "name": "stdout",
     "output_type": "stream",
     "text": [
      "There are 14629 missing values in the insurance csv.\n"
     ]
    }
   ],
   "source": [
    "null_vals = db.isnull().sum()\n",
    "print(\"There are \" + str(null_vals.sum()) + \" missing values in the insurance csv.\")"
   ]
  },
  {
   "cell_type": "code",
   "execution_count": 64,
   "id": "75010b57",
   "metadata": {},
   "outputs": [],
   "source": [
    "null_columns = db.isnull().sum()\n",
    "null_columns = null_columns[null_columns > 0]\n",
    "#print(null_columns)"
   ]
  },
  {
   "cell_type": "code",
   "execution_count": 65,
   "id": "4bb7c305",
   "metadata": {},
   "outputs": [
    {
     "name": "stdout",
     "output_type": "stream",
     "text": [
      "Bochum                 35\n",
      "Stuttgart              35\n",
      "Freiburg               34\n",
      "B. Monchengladbach     34\n",
      "Mainz                  34\n",
      "Eintracht Frankfurt    34\n",
      "Union Berlin           34\n",
      "Augsburg               34\n",
      "FC Koln                34\n",
      "Bayer Leverkusen       34\n",
      "Wolfsburg              34\n",
      "Hoffenheim             34\n",
      "Dortmund               34\n",
      "RB Leipzig             34\n",
      "Werder Bremen          34\n",
      "Bayern Munich          34\n",
      "Darmstadt              17\n",
      "Schalke                17\n",
      "Heidenheim             17\n",
      "Hertha Berlin          17\n",
      "Hamburger SV            1\n",
      "Dusseldorf              1\n",
      "Name: home_team, dtype: int64\n",
      "Stuttgart              35\n",
      "Bochum                 35\n",
      "B. Monchengladbach     34\n",
      "Mainz                  34\n",
      "Eintracht Frankfurt    34\n",
      "Union Berlin           34\n",
      "Augsburg               34\n",
      "Freiburg               34\n",
      "FC Koln                34\n",
      "Bayer Leverkusen       34\n",
      "Werder Bremen          34\n",
      "Hoffenheim             34\n",
      "Dortmund               34\n",
      "RB Leipzig             34\n",
      "Wolfsburg              34\n",
      "Bayern Munich          34\n",
      "Darmstadt              17\n",
      "Schalke                17\n",
      "Heidenheim             17\n",
      "Hertha Berlin          17\n",
      "Hamburger SV            1\n",
      "Dusseldorf              1\n",
      "Name: away_team, dtype: int64\n"
     ]
    }
   ],
   "source": [
    "print(db[\"home_team\"].value_counts())\n",
    "print(db[\"away_team\"].value_counts())"
   ]
  },
  {
   "cell_type": "code",
   "execution_count": 72,
   "id": "decb1576",
   "metadata": {},
   "outputs": [
    {
     "name": "stdout",
     "output_type": "stream",
     "text": [
      "Freiburg               34\n",
      "Bayer Leverkusen       34\n",
      "Mainz                  34\n",
      "Eintracht Frankfurt    34\n",
      "Bochum                 34\n",
      "Union Berlin           34\n",
      "Augsburg               34\n",
      "Stuttgart              34\n",
      "FC Koln                34\n",
      "B. Monchengladbach     34\n",
      "Hoffenheim             34\n",
      "Dortmund               34\n",
      "RB Leipzig             34\n",
      "Werder Bremen          34\n",
      "Bayern Munich          34\n",
      "Wolfsburg              34\n",
      "Darmstadt              17\n",
      "Schalke                17\n",
      "Heidenheim             17\n",
      "Hertha Berlin          17\n",
      "Name: home_team, dtype: int64\n",
      "Stuttgart              34\n",
      "Bayer Leverkusen       34\n",
      "Mainz                  34\n",
      "Eintracht Frankfurt    34\n",
      "Bochum                 34\n",
      "Union Berlin           34\n",
      "Augsburg               34\n",
      "Freiburg               34\n",
      "FC Koln                34\n",
      "B. Monchengladbach     34\n",
      "Hoffenheim             34\n",
      "Dortmund               34\n",
      "RB Leipzig             34\n",
      "Wolfsburg              34\n",
      "Bayern Munich          34\n",
      "Werder Bremen          34\n",
      "Darmstadt              17\n",
      "Schalke                17\n",
      "Heidenheim             17\n",
      "Hertha Berlin          17\n",
      "Name: away_team, dtype: int64\n"
     ]
    }
   ],
   "source": [
    "db = db[~db[\"home_team\"].isin([\"Hamburger SV\", \"Dusseldorf\"]) &\n",
    "        ~db[\"away_team\"].isin([\"Hamburger SV\", \"Dusseldorf\"])]\n",
    "print(db[\"home_team\"].value_counts())\n",
    "print(db[\"away_team\"].value_counts())"
   ]
  },
  {
   "cell_type": "code",
   "execution_count": 75,
   "id": "3464faf4",
   "metadata": {},
   "outputs": [
    {
     "name": "stdout",
     "output_type": "stream",
     "text": [
      "Constant columns: ['Country', 'League', 'Tackles_Home', 'Tackles_Host']\n"
     ]
    }
   ],
   "source": [
    "nunique = db.nunique()\n",
    "constant_cols = nunique[nunique == 1].index.tolist()\n",
    "print(\"Constant columns:\", constant_cols)"
   ]
  },
  {
   "cell_type": "code",
   "execution_count": 76,
   "id": "dc393cfd",
   "metadata": {},
   "outputs": [],
   "source": [
    "db = db.drop(columns=constant_cols)"
   ]
  },
  {
   "cell_type": "code",
   "execution_count": 81,
   "id": "3f88902e",
   "metadata": {},
   "outputs": [
    {
     "name": "stdout",
     "output_type": "stream",
     "text": [
      "Columns with too many null values: ['home_team_red_card_current_time', 'home_team_red_card', 'home_team_red_card_why', 'away_team_red_card_current_time', 'away_team_red_card', 'away_team_red_card_why', 'Blocked_Shots_Home', 'Blocked_Shots_Host', 'Red_Cards_Home', 'Red_Cards_Host', 'Crosses_Completed_Home', 'Crosses_Completed_Host', 'Interceptions_Home', 'Interceptions_Host', 'Distance_Covered_(km)_Home', 'Distance_Covered_(km)_Host', 'Clearances_Completed_Home', 'Clearances_Completed_Host', 'Pass_Success_per_Home', 'Pass_Success_per_Host']\n"
     ]
    }
   ],
   "source": [
    "null_ratio = db.isnull().mean()\n",
    "high_null_cols = null_ratio[null_ratio > 0.5].index.tolist()\n",
    "print(\"Columns with too many null values:\", high_null_cols)"
   ]
  },
  {
   "cell_type": "code",
   "execution_count": 82,
   "id": "3ef114a2",
   "metadata": {},
   "outputs": [],
   "source": [
    "db = db.drop(columns=high_null_cols)"
   ]
  },
  {
   "cell_type": "code",
   "execution_count": 85,
   "id": "81197c7b",
   "metadata": {},
   "outputs": [
    {
     "data": {
      "text/plain": [
       "(612, 67)"
      ]
     },
     "execution_count": 85,
     "metadata": {},
     "output_type": "execute_result"
    }
   ],
   "source": [
    "db.shape"
   ]
  },
  {
   "cell_type": "code",
   "execution_count": null,
   "id": "84e93c7a",
   "metadata": {},
   "outputs": [],
   "source": []
  }
 ],
 "metadata": {
  "kernelspec": {
   "display_name": "Soccer Predictor Kernel",
   "language": "python",
   "name": "soccer-env"
  },
  "language_info": {
   "codemirror_mode": {
    "name": "ipython",
    "version": 3
   },
   "file_extension": ".py",
   "mimetype": "text/x-python",
   "name": "python",
   "nbconvert_exporter": "python",
   "pygments_lexer": "ipython3",
   "version": "3.6.8"
  }
 },
 "nbformat": 4,
 "nbformat_minor": 5
}
