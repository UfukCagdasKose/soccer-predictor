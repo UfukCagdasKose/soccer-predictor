{
 "cells": [
  {
   "cell_type": "code",
   "execution_count": 131,
   "id": "078e981d",
   "metadata": {},
   "outputs": [],
   "source": [
    "import pandas as pd\n",
    "import numpy as np\n",
    "import matplotlib.pyplot as plt\n",
    "import seaborn as sns\n",
    "from sklearn.preprocessing import OrdinalEncoder\n",
    "from sklearn.preprocessing import MinMaxScaler\n",
    "from sklearn.model_selection import train_test_split\n",
    "from sklearn.neighbors import KNeighborsClassifier\n",
    "from sklearn.linear_model import LogisticRegression\n",
    "from sklearn.metrics import confusion_matrix, classification_report\n",
    "from sklearn.metrics import precision_recall_curve, accuracy_score, precision_score, recall_score, f1_score, roc_curve"
   ]
  },
  {
   "cell_type": "code",
   "execution_count": 132,
   "id": "a6f4c4d5",
   "metadata": {},
   "outputs": [
    {
     "name": "stderr",
     "output_type": "stream",
     "text": [
      "/Users/ufukkose/Desktop/projects/soccer-predictor/venv/lib/python3.6/site-packages/IPython/core/interactiveshell.py:3072: DtypeWarning: Columns (4,5,11,12,13,14,15,16,17,18,19,20,21,22,23,24,25,26,27,28,29,30,31,32,33,34,35,36,37,38,71,72) have mixed types.Specify dtype option on import or set low_memory=False.\n",
      "  interactivity=interactivity, compiler=compiler, result=result)\n"
     ]
    },
    {
     "data": {
      "text/html": [
       "<div>\n",
       "<style scoped>\n",
       "    .dataframe tbody tr th:only-of-type {\n",
       "        vertical-align: middle;\n",
       "    }\n",
       "\n",
       "    .dataframe tbody tr th {\n",
       "        vertical-align: top;\n",
       "    }\n",
       "\n",
       "    .dataframe thead th {\n",
       "        text-align: right;\n",
       "    }\n",
       "</style>\n",
       "<table border=\"1\" class=\"dataframe\">\n",
       "  <thead>\n",
       "    <tr style=\"text-align: right;\">\n",
       "      <th></th>\n",
       "      <th>Country</th>\n",
       "      <th>League</th>\n",
       "      <th>home_team</th>\n",
       "      <th>away_team</th>\n",
       "      <th>home_score</th>\n",
       "      <th>away_score</th>\n",
       "      <th>season_year</th>\n",
       "      <th>Date_day</th>\n",
       "      <th>Date_hour</th>\n",
       "      <th>first_half</th>\n",
       "      <th>...</th>\n",
       "      <th>Distance_Covered_(km)_Home</th>\n",
       "      <th>Distance_Covered_(km)_Host</th>\n",
       "      <th>Clearances_Completed_Home</th>\n",
       "      <th>Clearances_Completed_Host</th>\n",
       "      <th>Pass_Success_per_Home</th>\n",
       "      <th>Pass_Success_per_Host</th>\n",
       "      <th>referee</th>\n",
       "      <th>venue</th>\n",
       "      <th>capacity</th>\n",
       "      <th>attendance</th>\n",
       "    </tr>\n",
       "  </thead>\n",
       "  <tbody>\n",
       "    <tr>\n",
       "      <th>0</th>\n",
       "      <td>Germany</td>\n",
       "      <td>Bundesliga</td>\n",
       "      <td>B. Monchengladbach</td>\n",
       "      <td>Werder Bremen</td>\n",
       "      <td>4</td>\n",
       "      <td>1</td>\n",
       "      <td>2024/2025</td>\n",
       "      <td>3.11</td>\n",
       "      <td>19:30</td>\n",
       "      <td>3 - 0</td>\n",
       "      <td>...</td>\n",
       "      <td>NaN</td>\n",
       "      <td>NaN</td>\n",
       "      <td>NaN</td>\n",
       "      <td>NaN</td>\n",
       "      <td>NaN</td>\n",
       "      <td>NaN</td>\n",
       "      <td>Dankert B.  (Ger)</td>\n",
       "      <td>Borussia-Park  (Mönchengladbach)</td>\n",
       "      <td>54 042</td>\n",
       "      <td>54 042</td>\n",
       "    </tr>\n",
       "    <tr>\n",
       "      <th>1</th>\n",
       "      <td>Germany</td>\n",
       "      <td>Bundesliga</td>\n",
       "      <td>Freiburg</td>\n",
       "      <td>Mainz</td>\n",
       "      <td>0</td>\n",
       "      <td>0</td>\n",
       "      <td>2024/2025</td>\n",
       "      <td>3.11</td>\n",
       "      <td>17:30</td>\n",
       "      <td>0 - 0</td>\n",
       "      <td>...</td>\n",
       "      <td>NaN</td>\n",
       "      <td>NaN</td>\n",
       "      <td>NaN</td>\n",
       "      <td>NaN</td>\n",
       "      <td>NaN</td>\n",
       "      <td>NaN</td>\n",
       "      <td>Brand B.  (Ger)</td>\n",
       "      <td>Europa-Park Stadion  (Freiburg)</td>\n",
       "      <td>34 700</td>\n",
       "      <td>34 400</td>\n",
       "    </tr>\n",
       "    <tr>\n",
       "      <th>2</th>\n",
       "      <td>Germany</td>\n",
       "      <td>Bundesliga</td>\n",
       "      <td>Dortmund</td>\n",
       "      <td>RB Leipzig</td>\n",
       "      <td>2</td>\n",
       "      <td>1</td>\n",
       "      <td>2024/2025</td>\n",
       "      <td>2.11</td>\n",
       "      <td>20:30</td>\n",
       "      <td>1 - 1</td>\n",
       "      <td>...</td>\n",
       "      <td>NaN</td>\n",
       "      <td>NaN</td>\n",
       "      <td>NaN</td>\n",
       "      <td>NaN</td>\n",
       "      <td>NaN</td>\n",
       "      <td>NaN</td>\n",
       "      <td>Stieler T.  (Ger)</td>\n",
       "      <td>Signal Iduna Park  (Dortmund)</td>\n",
       "      <td>81 365</td>\n",
       "      <td>81 365</td>\n",
       "    </tr>\n",
       "    <tr>\n",
       "      <th>3</th>\n",
       "      <td>Germany</td>\n",
       "      <td>Bundesliga</td>\n",
       "      <td>Bayern Munich</td>\n",
       "      <td>Union Berlin</td>\n",
       "      <td>3</td>\n",
       "      <td>0</td>\n",
       "      <td>2024/2025</td>\n",
       "      <td>2.11</td>\n",
       "      <td>17:30</td>\n",
       "      <td>2 - 0</td>\n",
       "      <td>...</td>\n",
       "      <td>NaN</td>\n",
       "      <td>NaN</td>\n",
       "      <td>NaN</td>\n",
       "      <td>NaN</td>\n",
       "      <td>NaN</td>\n",
       "      <td>NaN</td>\n",
       "      <td>Jollenbeck M.  (Ger)</td>\n",
       "      <td>Allianz Arena  (Munich)</td>\n",
       "      <td>75 024</td>\n",
       "      <td>75 000</td>\n",
       "    </tr>\n",
       "    <tr>\n",
       "      <th>4</th>\n",
       "      <td>Germany</td>\n",
       "      <td>Bundesliga</td>\n",
       "      <td>Eintracht Frankfurt</td>\n",
       "      <td>Bochum</td>\n",
       "      <td>7</td>\n",
       "      <td>2</td>\n",
       "      <td>2024/2025</td>\n",
       "      <td>2.11</td>\n",
       "      <td>17:30</td>\n",
       "      <td>4 - 1</td>\n",
       "      <td>...</td>\n",
       "      <td>NaN</td>\n",
       "      <td>NaN</td>\n",
       "      <td>NaN</td>\n",
       "      <td>NaN</td>\n",
       "      <td>NaN</td>\n",
       "      <td>NaN</td>\n",
       "      <td>Schlager D.  (Ger)</td>\n",
       "      <td>Deutsche Bank Park  (Frankfurt)</td>\n",
       "      <td>58 000</td>\n",
       "      <td>58 000</td>\n",
       "    </tr>\n",
       "  </tbody>\n",
       "</table>\n",
       "<p>5 rows × 91 columns</p>\n",
       "</div>"
      ],
      "text/plain": [
       "   Country      League            home_team      away_team home_score  \\\n",
       "0  Germany  Bundesliga   B. Monchengladbach  Werder Bremen          4   \n",
       "1  Germany  Bundesliga             Freiburg          Mainz          0   \n",
       "2  Germany  Bundesliga             Dortmund     RB Leipzig          2   \n",
       "3  Germany  Bundesliga        Bayern Munich   Union Berlin          3   \n",
       "4  Germany  Bundesliga  Eintracht Frankfurt         Bochum          7   \n",
       "\n",
       "  away_score season_year  Date_day Date_hour first_half  ...  \\\n",
       "0          1   2024/2025      3.11     19:30      3 - 0  ...   \n",
       "1          0   2024/2025      3.11     17:30      0 - 0  ...   \n",
       "2          1   2024/2025      2.11     20:30      1 - 1  ...   \n",
       "3          0   2024/2025      2.11     17:30      2 - 0  ...   \n",
       "4          2   2024/2025      2.11     17:30      4 - 1  ...   \n",
       "\n",
       "  Distance_Covered_(km)_Home Distance_Covered_(km)_Host  \\\n",
       "0                        NaN                        NaN   \n",
       "1                        NaN                        NaN   \n",
       "2                        NaN                        NaN   \n",
       "3                        NaN                        NaN   \n",
       "4                        NaN                        NaN   \n",
       "\n",
       "  Clearances_Completed_Home Clearances_Completed_Host Pass_Success_per_Home  \\\n",
       "0                       NaN                       NaN                   NaN   \n",
       "1                       NaN                       NaN                   NaN   \n",
       "2                       NaN                       NaN                   NaN   \n",
       "3                       NaN                       NaN                   NaN   \n",
       "4                       NaN                       NaN                   NaN   \n",
       "\n",
       "  Pass_Success_per_Host               referee  \\\n",
       "0                   NaN     Dankert B.  (Ger)   \n",
       "1                   NaN       Brand B.  (Ger)   \n",
       "2                   NaN     Stieler T.  (Ger)   \n",
       "3                   NaN  Jollenbeck M.  (Ger)   \n",
       "4                   NaN    Schlager D.  (Ger)   \n",
       "\n",
       "                              venue capacity attendance  \n",
       "0  Borussia-Park  (Mönchengladbach)   54 042     54 042  \n",
       "1   Europa-Park Stadion  (Freiburg)   34 700     34 400  \n",
       "2     Signal Iduna Park  (Dortmund)   81 365     81 365  \n",
       "3           Allianz Arena  (Munich)   75 024     75 000  \n",
       "4   Deutsche Bank Park  (Frankfurt)   58 000     58 000  \n",
       "\n",
       "[5 rows x 91 columns]"
      ]
     },
     "execution_count": 132,
     "metadata": {},
     "output_type": "execute_result"
    }
   ],
   "source": [
    "matches = pd.read_csv(\"Football.csv\")\n",
    "matches.head()"
   ]
  },
  {
   "cell_type": "code",
   "execution_count": 133,
   "id": "e4742182",
   "metadata": {},
   "outputs": [
    {
     "data": {
      "text/plain": [
       "(95384, 91)"
      ]
     },
     "execution_count": 133,
     "metadata": {},
     "output_type": "execute_result"
    }
   ],
   "source": [
    "matches.shape"
   ]
  },
  {
   "cell_type": "code",
   "execution_count": 134,
   "id": "d79c53c6",
   "metadata": {},
   "outputs": [
    {
     "data": {
      "text/plain": [
       "(616, 91)"
      ]
     },
     "execution_count": 134,
     "metadata": {},
     "output_type": "execute_result"
    }
   ],
   "source": [
    "db = matches[(matches[\"League\"] == \"Bundesliga\") & \n",
    "             (matches[\"season_year\"].isin([\"2023/2024\", \"2022/2023\"]))].copy()\n",
    "db.shape"
   ]
  },
  {
   "cell_type": "code",
   "execution_count": 135,
   "id": "22c0c917",
   "metadata": {},
   "outputs": [],
   "source": [
    "db[\"home_team\"] = db[\"home_team\"].str.replace(r\"\\n2\", \"\", regex=True).str.strip()\n",
    "db[\"away_team\"] = db[\"away_team\"].str.replace(r\"\\n2\", \"\", regex=True).str.strip()"
   ]
  },
  {
   "cell_type": "code",
   "execution_count": 136,
   "id": "4bb7c305",
   "metadata": {},
   "outputs": [
    {
     "name": "stdout",
     "output_type": "stream",
     "text": [
      "Stuttgart              35\n",
      "Bochum                 35\n",
      "Freiburg               34\n",
      "Eintracht Frankfurt    34\n",
      "Werder Bremen          34\n",
      "Dortmund               34\n",
      "Bayern Munich          34\n",
      "B. Monchengladbach     34\n",
      "RB Leipzig             34\n",
      "Wolfsburg              34\n",
      "Hoffenheim             34\n",
      "Mainz                  34\n",
      "Union Berlin           34\n",
      "Augsburg               34\n",
      "Bayer Leverkusen       34\n",
      "FC Koln                34\n",
      "Hertha Berlin          17\n",
      "Darmstadt              17\n",
      "Schalke                17\n",
      "Heidenheim             17\n",
      "Hamburger SV            1\n",
      "Dusseldorf              1\n",
      "Name: home_team, dtype: int64\n",
      "Bochum                 35\n",
      "Stuttgart              35\n",
      "RB Leipzig             34\n",
      "Eintracht Frankfurt    34\n",
      "Werder Bremen          34\n",
      "Hoffenheim             34\n",
      "Dortmund               34\n",
      "Bayern Munich          34\n",
      "B. Monchengladbach     34\n",
      "Union Berlin           34\n",
      "Wolfsburg              34\n",
      "Mainz                  34\n",
      "Freiburg               34\n",
      "Augsburg               34\n",
      "Bayer Leverkusen       34\n",
      "FC Koln                34\n",
      "Heidenheim             17\n",
      "Hertha Berlin          17\n",
      "Schalke                17\n",
      "Darmstadt              17\n",
      "Hamburger SV            1\n",
      "Dusseldorf              1\n",
      "Name: away_team, dtype: int64\n"
     ]
    }
   ],
   "source": [
    "print(db[\"home_team\"].value_counts())\n",
    "print(db[\"away_team\"].value_counts())"
   ]
  },
  {
   "cell_type": "code",
   "execution_count": 137,
   "id": "decb1576",
   "metadata": {},
   "outputs": [
    {
     "name": "stdout",
     "output_type": "stream",
     "text": [
      "Freiburg               34\n",
      "Eintracht Frankfurt    34\n",
      "Werder Bremen          34\n",
      "Dortmund               34\n",
      "Bayern Munich          34\n",
      "B. Monchengladbach     34\n",
      "RB Leipzig             34\n",
      "Wolfsburg              34\n",
      "Stuttgart              34\n",
      "Hoffenheim             34\n",
      "Mainz                  34\n",
      "Union Berlin           34\n",
      "Bochum                 34\n",
      "Augsburg               34\n",
      "Bayer Leverkusen       34\n",
      "FC Koln                34\n",
      "Hertha Berlin          17\n",
      "Darmstadt              17\n",
      "Schalke                17\n",
      "Heidenheim             17\n",
      "Name: home_team, dtype: int64\n",
      "RB Leipzig             34\n",
      "Eintracht Frankfurt    34\n",
      "Werder Bremen          34\n",
      "Hoffenheim             34\n",
      "Dortmund               34\n",
      "Bayern Munich          34\n",
      "B. Monchengladbach     34\n",
      "Union Berlin           34\n",
      "Wolfsburg              34\n",
      "Stuttgart              34\n",
      "Mainz                  34\n",
      "Freiburg               34\n",
      "Bochum                 34\n",
      "Augsburg               34\n",
      "Bayer Leverkusen       34\n",
      "FC Koln                34\n",
      "Heidenheim             17\n",
      "Hertha Berlin          17\n",
      "Schalke                17\n",
      "Darmstadt              17\n",
      "Name: away_team, dtype: int64\n"
     ]
    }
   ],
   "source": [
    "db = db[~db[\"home_team\"].isin([\"Hamburger SV\", \"Dusseldorf\"]) &\n",
    "        ~db[\"away_team\"].isin([\"Hamburger SV\", \"Dusseldorf\"])]\n",
    "print(db[\"home_team\"].value_counts())\n",
    "print(db[\"away_team\"].value_counts())"
   ]
  },
  {
   "cell_type": "code",
   "execution_count": 138,
   "id": "3464faf4",
   "metadata": {},
   "outputs": [
    {
     "name": "stdout",
     "output_type": "stream",
     "text": [
      "Constant columns: ['Country', 'League', 'Tackles_Home', 'Tackles_Host']\n"
     ]
    }
   ],
   "source": [
    "nunique = db.nunique()\n",
    "constant_cols = nunique[nunique == 1].index.tolist()\n",
    "print(\"Constant columns:\", constant_cols)\n",
    "db = db.drop(columns=constant_cols)"
   ]
  },
  {
   "cell_type": "code",
   "execution_count": 139,
   "id": "3f88902e",
   "metadata": {},
   "outputs": [
    {
     "name": "stdout",
     "output_type": "stream",
     "text": [
      "Columns with too many null values: ['home_team_goals_current_time', 'home_team_goals_current_score', 'home_team_goals', 'home_team_goals_assist', 'away_team_goals_current_time', 'away_team_goals_current_score', 'away_team_goals', 'away_team_goals_assist', 'home_team_red_card_current_time', 'home_team_red_card', 'home_team_red_card_why', 'away_team_red_card_current_time', 'away_team_red_card', 'away_team_red_card_why', 'expected_goals_xg_home', 'expected_goals_xg_host', 'Blocked_Shots_Home', 'Blocked_Shots_Host', 'Red_Cards_Home', 'Red_Cards_Host', 'Crosses_Completed_Home', 'Crosses_Completed_Host', 'Interceptions_Home', 'Interceptions_Host', 'Distance_Covered_(km)_Home', 'Distance_Covered_(km)_Host', 'Clearances_Completed_Home', 'Clearances_Completed_Host', 'Pass_Success_per_Home', 'Pass_Success_per_Host']\n"
     ]
    }
   ],
   "source": [
    "null_ratio = db.isnull().mean()\n",
    "high_null_cols = null_ratio[null_ratio > 0.15].index.tolist()\n",
    "print(\"Columns with too many null values:\", high_null_cols)\n",
    "db = db.drop(columns=high_null_cols)"
   ]
  },
  {
   "cell_type": "code",
   "execution_count": 140,
   "id": "81197c7b",
   "metadata": {},
   "outputs": [
    {
     "data": {
      "text/plain": [
       "(612, 57)"
      ]
     },
     "execution_count": 140,
     "metadata": {},
     "output_type": "execute_result"
    }
   ],
   "source": [
    "db.shape"
   ]
  },
  {
   "cell_type": "code",
   "execution_count": 141,
   "id": "84e93c7a",
   "metadata": {},
   "outputs": [
    {
     "name": "stdout",
     "output_type": "stream",
     "text": [
      "first_half                               1\n",
      "second_half                              1\n",
      "home_team_yellow_card_current_time      74\n",
      "home_team_yellow_card                   74\n",
      "home_team_yellow_card_why               75\n",
      "away_team_yellow_card_current_time      58\n",
      "away_team_yellow_card                   58\n",
      "away_team_yellow_card_why               59\n",
      "home_team_substitutions_current_time     1\n",
      "home_team_substitutions                  1\n",
      "home_team_substitutions_with             1\n",
      "home_team_substitution_why               1\n",
      "away_team_substitutions_current_time     1\n",
      "away_team_substitutions                  1\n",
      "away_team_substitutions_with             1\n",
      "away_team_substitution_why               1\n",
      "Ball_Possession_Home                     1\n",
      "Ball_Possession_Host                     1\n",
      "Goal_Attempts_Home                       1\n",
      "Goal_Attempts_Host                       1\n",
      "Shots_on_Goal_Home                       1\n",
      "Shots_on_Goal_Host                       1\n",
      "Shots_off_Goal_Home                      1\n",
      "Shots_off_Goal_Host                      1\n",
      "Free_Kicks_Home                         12\n",
      "Free_Kicks_Host                         12\n",
      "Corner_Kicks_Home                        1\n",
      "Corner_Kicks_Host                        1\n",
      "Offsides_Home                            1\n",
      "Offsides_Host                            1\n",
      "Throw_ins_Home                          14\n",
      "Throw_ins_Host                          14\n",
      "Goalkeeper_Saves_Home                    1\n",
      "Goalkeeper_Saves_Host                    1\n",
      "Fouls_Home                               1\n",
      "Fouls_Host                               1\n",
      "Yellow_Cards_Home                       19\n",
      "Yellow_Cards_Host                       19\n",
      "Total_Passes_Home                        1\n",
      "Total_Passes_Host                        1\n",
      "Completed_Passes_Home                    1\n",
      "Completed_Passes_Host                    1\n",
      "Attacks_Home                             1\n",
      "Attacks_Host                             1\n",
      "Dangerous_Attacks_Home                   1\n",
      "Dangerous_Attacks_Host                   1\n",
      "dtype: int64\n"
     ]
    }
   ],
   "source": [
    "null_columns = db.isnull().sum()\n",
    "null_columns = null_columns[null_columns > 0]\n",
    "print(null_columns)"
   ]
  },
  {
   "cell_type": "code",
   "execution_count": 142,
   "id": "132ec5da",
   "metadata": {},
   "outputs": [
    {
     "name": "stdout",
     "output_type": "stream",
     "text": [
      "There are 522 missing values.\n"
     ]
    }
   ],
   "source": [
    "null_vals = db.isnull().sum()\n",
    "print(\"There are \" + str(null_vals.sum()) + \" missing values.\")"
   ]
  },
  {
   "cell_type": "code",
   "execution_count": 143,
   "id": "ed03b8da",
   "metadata": {},
   "outputs": [
    {
     "data": {
      "text/plain": [
       "Index(['home_team', 'away_team', 'home_score', 'away_score', 'season_year',\n",
       "       'Date_day', 'Date_hour', 'first_half', 'second_half',\n",
       "       'home_team_yellow_card_current_time', 'home_team_yellow_card',\n",
       "       'home_team_yellow_card_why', 'away_team_yellow_card_current_time',\n",
       "       'away_team_yellow_card', 'away_team_yellow_card_why',\n",
       "       'home_team_substitutions_current_time', 'home_team_substitutions',\n",
       "       'home_team_substitutions_with', 'home_team_substitution_why',\n",
       "       'away_team_substitutions_current_time', 'away_team_substitutions',\n",
       "       'away_team_substitutions_with', 'away_team_substitution_why',\n",
       "       'Ball_Possession_Home', 'Ball_Possession_Host', 'Goal_Attempts_Home',\n",
       "       'Goal_Attempts_Host', 'Shots_on_Goal_Home', 'Shots_on_Goal_Host',\n",
       "       'Shots_off_Goal_Home', 'Shots_off_Goal_Host', 'Free_Kicks_Home',\n",
       "       'Free_Kicks_Host', 'Corner_Kicks_Home', 'Corner_Kicks_Host',\n",
       "       'Offsides_Home', 'Offsides_Host', 'Throw_ins_Home', 'Throw_ins_Host',\n",
       "       'Goalkeeper_Saves_Home', 'Goalkeeper_Saves_Host', 'Fouls_Home',\n",
       "       'Fouls_Host', 'Yellow_Cards_Home', 'Yellow_Cards_Host',\n",
       "       'Total_Passes_Home', 'Total_Passes_Host', 'Completed_Passes_Home',\n",
       "       'Completed_Passes_Host', 'Attacks_Home', 'Attacks_Host',\n",
       "       'Dangerous_Attacks_Home', 'Dangerous_Attacks_Host', 'referee', 'venue',\n",
       "       'capacity', 'attendance'],\n",
       "      dtype='object')"
      ]
     },
     "execution_count": 143,
     "metadata": {},
     "output_type": "execute_result"
    }
   ],
   "source": [
    "db.columns"
   ]
  },
  {
   "cell_type": "code",
   "execution_count": 144,
   "id": "3b5c6f9c",
   "metadata": {},
   "outputs": [],
   "source": [
    "db = db.drop(columns = ['home_team_yellow_card_current_time', 'home_team_yellow_card',\n",
    "       'home_team_yellow_card_why', 'away_team_yellow_card_current_time',\n",
    "       'away_team_yellow_card', 'away_team_yellow_card_why',\n",
    "       'home_team_substitutions_current_time', 'home_team_substitutions',\n",
    "       'home_team_substitutions_with', 'home_team_substitution_why',\n",
    "       'away_team_substitutions_current_time', 'away_team_substitutions',\n",
    "       'away_team_substitutions_with', 'away_team_substitution_why',])"
   ]
  },
  {
   "cell_type": "code",
   "execution_count": 145,
   "id": "ba49597e",
   "metadata": {},
   "outputs": [
    {
     "data": {
      "text/plain": [
       "(612, 43)"
      ]
     },
     "execution_count": 145,
     "metadata": {},
     "output_type": "execute_result"
    }
   ],
   "source": [
    "db.shape"
   ]
  },
  {
   "cell_type": "code",
   "execution_count": 146,
   "id": "61c43173",
   "metadata": {},
   "outputs": [
    {
     "name": "stdout",
     "output_type": "stream",
     "text": [
      "Numerical columns: ['Date_day', 'Goal_Attempts_Home', 'Goal_Attempts_Host', 'Shots_on_Goal_Home', 'Shots_on_Goal_Host', 'Shots_off_Goal_Home', 'Shots_off_Goal_Host', 'Free_Kicks_Home', 'Free_Kicks_Host', 'Corner_Kicks_Home', 'Corner_Kicks_Host', 'Offsides_Home', 'Offsides_Host', 'Throw_ins_Home', 'Throw_ins_Host', 'Goalkeeper_Saves_Home', 'Goalkeeper_Saves_Host', 'Fouls_Home', 'Fouls_Host', 'Yellow_Cards_Home', 'Yellow_Cards_Host', 'Total_Passes_Home', 'Total_Passes_Host', 'Completed_Passes_Home', 'Completed_Passes_Host', 'Attacks_Home', 'Attacks_Host', 'Dangerous_Attacks_Home', 'Dangerous_Attacks_Host']\n",
      "Categorical columns: ['home_team', 'away_team', 'home_score', 'away_score', 'season_year', 'Date_hour', 'first_half', 'second_half', 'Ball_Possession_Home', 'Ball_Possession_Host', 'referee', 'venue', 'capacity', 'attendance']\n"
     ]
    }
   ],
   "source": [
    "numerical_cols = db.select_dtypes(include=['int64', 'float64']).columns.tolist()\n",
    "categorical_cols = db.select_dtypes(include=['object', 'category', 'bool']).columns.tolist()\n",
    "\n",
    "print(\"Numerical columns:\", numerical_cols)\n",
    "print(\"Categorical columns:\", categorical_cols)"
   ]
  },
  {
   "cell_type": "code",
   "execution_count": 147,
   "id": "1f19116a",
   "metadata": {},
   "outputs": [
    {
     "name": "stdout",
     "output_type": "stream",
     "text": [
      "Null ratio in worst row: 69.77%\n"
     ]
    }
   ],
   "source": [
    "null_counts_per_row = db.isnull().sum(axis=1)\n",
    "row_with_most_nulls = null_counts_per_row.idxmax()\n",
    "null_ratio = db.isnull().sum(axis=1).div(len(db.columns))\n",
    "print(f\"Null ratio in worst row: {null_ratio[row_with_most_nulls]:.2%}\")\n",
    "db = db.drop(index=row_with_most_nulls)"
   ]
  },
  {
   "cell_type": "code",
   "execution_count": 148,
   "id": "eaa069e5",
   "metadata": {},
   "outputs": [
    {
     "name": "stdout",
     "output_type": "stream",
     "text": [
      "first_half            1\n",
      "second_half           1\n",
      "Free_Kicks_Home      11\n",
      "Free_Kicks_Host      11\n",
      "Throw_ins_Home       13\n",
      "Throw_ins_Host       13\n",
      "Yellow_Cards_Home    18\n",
      "Yellow_Cards_Host    18\n",
      "dtype: int64\n"
     ]
    }
   ],
   "source": [
    "null_columns = db.isnull().sum()\n",
    "null_columns = null_columns[null_columns > 0]\n",
    "print(null_columns)"
   ]
  },
  {
   "cell_type": "code",
   "execution_count": 149,
   "id": "47755f62",
   "metadata": {},
   "outputs": [
    {
     "name": "stdout",
     "output_type": "stream",
     "text": [
      "    home_team away_team home_score away_score season_year  Date_day Date_hour  \\\n",
      "104   FC Koln  Freiburg          0          0   2023/2024      4.05     19:30   \n",
      "431   FC Koln  Freiburg          0          1   2022/2023     29.04     16:30   \n",
      "\n",
      "    first_half second_half Ball_Possession_Home  ... Completed_Passes_Home  \\\n",
      "104      0 - 0       0 - 0                  55%  ...                 367.0   \n",
      "431      0 - 0       1 - 0                  57%  ...                 350.0   \n",
      "\n",
      "     Completed_Passes_Host  Attacks_Home  Attacks_Host  \\\n",
      "104                  289.0         133.0          90.0   \n",
      "431                  241.0         102.0         103.0   \n",
      "\n",
      "     Dangerous_Attacks_Home  Dangerous_Attacks_Host            referee  \\\n",
      "104                    61.0                    33.0   Storks S.  (Ger)   \n",
      "431                    69.0                    42.0  Reichel T.  (Ger)   \n",
      "\n",
      "                              venue  capacity  attendance  \n",
      "104  RheinEnergieStadion  (Cologne)    50 000      50 000  \n",
      "431  RheinEnergieStadion  (Cologne)    50 000      50 000  \n",
      "\n",
      "[2 rows x 43 columns]\n"
     ]
    }
   ],
   "source": [
    "db.loc[db[\"first_half\"].isnull(), \"first_half\"] = \"0 - 0\"\n",
    "db.loc[db[\"second_half\"].isnull(), \"second_half\"] = \"1 - 0\"\n",
    "print(db.loc[(db['home_team'] == 'FC Koln') & (db['away_team'] == 'Freiburg')])"
   ]
  },
  {
   "cell_type": "code",
   "execution_count": null,
   "id": "9f367421",
   "metadata": {},
   "outputs": [],
   "source": []
  }
 ],
 "metadata": {
  "kernelspec": {
   "display_name": "Soccer Predictor Kernel",
   "language": "python",
   "name": "soccer-env"
  },
  "language_info": {
   "codemirror_mode": {
    "name": "ipython",
    "version": 3
   },
   "file_extension": ".py",
   "mimetype": "text/x-python",
   "name": "python",
   "nbconvert_exporter": "python",
   "pygments_lexer": "ipython3",
   "version": "3.6.8"
  }
 },
 "nbformat": 4,
 "nbformat_minor": 5
}
